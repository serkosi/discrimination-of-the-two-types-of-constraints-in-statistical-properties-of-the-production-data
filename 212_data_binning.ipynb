{
 "cells": [
  {
   "cell_type": "code",
   "execution_count": 3,
   "id": "ffa5e07b",
   "metadata": {},
   "outputs": [],
   "source": [
    "import pandas as pd\n",
    "import numpy as np\n",
    "import networkx as nx\n",
    "import matplotlib.pyplot as plt\n",
    "import functions as fn\n",
    "import warnings\n",
    "warnings.filterwarnings('ignore')\n",
    "\n",
    "df = pd.read_csv('data/ccm_manipulated_347418.csv', names=['EVENT_ID', 'SEQUENCE_ID', 'R_OS_ID', 'PRODUCTION_LINE_NAME', 'REFERENCE_DATE', 'PIECE_ID', \n",
    " 'MATERIAL_ID', 'MOLD_WIDTH', 'WIDTH', 'THICKNESS', 'WEIGHT', 'LENGTH', 'HEAT_ID',\n",
    " 'STEEL_GRADE_ID_INT', 'EXIT_TEMP', 'SLAB_TRANSITION'], header=None)\n",
    "feature = 'WIDTH'"
   ]
  },
  {
   "cell_type": "code",
   "execution_count": 7,
   "id": "d342b466",
   "metadata": {},
   "outputs": [],
   "source": [
    "min_val= int(df[feature].min())\n",
    "max_val= int(df[feature].max())\n",
    "step= 11\n",
    "\n",
    "bins = fn.binning_pandas(df[feature], min_val, max_val, step)"
   ]
  },
  {
   "cell_type": "code",
   "execution_count": null,
   "id": "41b19ba4",
   "metadata": {},
   "outputs": [],
   "source": []
  }
 ],
 "metadata": {
  "kernelspec": {
   "display_name": ".venv",
   "language": "python",
   "name": "python3"
  },
  "language_info": {
   "codemirror_mode": {
    "name": "ipython",
    "version": 3
   },
   "file_extension": ".py",
   "mimetype": "text/x-python",
   "name": "python",
   "nbconvert_exporter": "python",
   "pygments_lexer": "ipython3",
   "version": "3.12.3"
  }
 },
 "nbformat": 4,
 "nbformat_minor": 5
}
